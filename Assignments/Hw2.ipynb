{
  "nbformat": 4,
  "nbformat_minor": 0,
  "metadata": {
    "colab": {
      "name": "5430_Assignment2_chb2132.ipynb",
      "provenance": [],
      "collapsed_sections": []
    },
    "kernelspec": {
      "name": "python3",
      "display_name": "Python 3"
    }
  },
  "cells": [
    {
      "cell_type": "markdown",
      "metadata": {
        "id": "_OSZzM3MD7XI"
      },
      "source": [
        "#`5430 NLP | SPRING 2021 | ASSIGNMENT 2 | UNI: CHB2132 `#\n",
        "\n",
        "\n",
        "---\n",
        "\n",
        "> **Write a Python program that:**\n",
        ">\n",
        "> 1. Reads JSON objects of newsfeeds from the data file into:\n",
        "      * A list or an array of Python dictionaries, or\n",
        "      * A Pandas dataframe\n",
        ">\n",
        "> 2. Prints the schema of the JSON object\n",
        ">\n",
        "> 3. Prints the number of newsfeeds *(JSON objects)* in the collection\n",
        ">\n",
        "> 4. Creates a set of unique newsfeeds by title, and\n",
        "      * Prints the new total collection size\n",
        ">\n",
        "> 5. Prints the latest 100:\n",
        "      * Article Titles,\n",
        "      * Urls,\n",
        "      * Publish Dates"
      ]
    },
    {
      "cell_type": "code",
      "metadata": {
        "id": "1iLymyPn0PJU",
        "colab": {
          "base_uri": "https://localhost:8080/"
        },
        "outputId": "19499870-6de5-4b13-e903-67891a66a537"
      },
      "source": [
        "#!pip install python-decouple\n",
        "#!pip install python-docx\n",
        "#!pip install demjson\n",
        "#!pip install requests\n",
        "#!pip install pypdf2"
      ],
      "execution_count": null,
      "outputs": [
        {
          "output_type": "stream",
          "text": [
            "Collecting python-decouple\n",
            "  Downloading https://files.pythonhosted.org/packages/8e/67/05621304d723cc65342f96254a128f0d59a502701ff18823f829b88fdbb9/python_decouple-3.4-py3-none-any.whl\n",
            "Installing collected packages: python-decouple\n",
            "Successfully installed python-decouple-3.4\n",
            "Collecting python-docx\n",
            "\u001b[?25l  Downloading https://files.pythonhosted.org/packages/e4/83/c66a1934ed5ed8ab1dbb9931f1779079f8bca0f6bbc5793c06c4b5e7d671/python-docx-0.8.10.tar.gz (5.5MB)\n",
            "\u001b[K     |████████████████████████████████| 5.5MB 10.1MB/s \n",
            "\u001b[?25hRequirement already satisfied: lxml>=2.3.2 in /usr/local/lib/python3.6/dist-packages (from python-docx) (4.2.6)\n",
            "Building wheels for collected packages: python-docx\n",
            "  Building wheel for python-docx (setup.py) ... \u001b[?25l\u001b[?25hdone\n",
            "  Created wheel for python-docx: filename=python_docx-0.8.10-cp36-none-any.whl size=184491 sha256=2c75bcd68d2922b19f8f33e2681ef9c2ae0406c85c88507d1d6d72fd86061fb0\n",
            "  Stored in directory: /root/.cache/pip/wheels/18/0b/a0/1dd62ff812c857c9e487f27d80d53d2b40531bec1acecfa47b\n",
            "Successfully built python-docx\n",
            "Installing collected packages: python-docx\n",
            "Successfully installed python-docx-0.8.10\n",
            "Collecting demjson\n",
            "\u001b[?25l  Downloading https://files.pythonhosted.org/packages/96/67/6db789e2533158963d4af689f961b644ddd9200615b8ce92d6cad695c65a/demjson-2.2.4.tar.gz (131kB)\n",
            "\u001b[K     |████████████████████████████████| 133kB 8.3MB/s \n",
            "\u001b[?25hBuilding wheels for collected packages: demjson\n",
            "  Building wheel for demjson (setup.py) ... \u001b[?25l\u001b[?25hdone\n",
            "  Created wheel for demjson: filename=demjson-2.2.4-cp36-none-any.whl size=73547 sha256=1ce755dbe13e8cf0d4c207ae22c16da80acf21be3e10907c4a252514c71bd884\n",
            "  Stored in directory: /root/.cache/pip/wheels/c5/d2/ab/a54fb5ea53ac3badba098160e8452fa126a51febda80440ded\n",
            "Successfully built demjson\n",
            "Installing collected packages: demjson\n",
            "Successfully installed demjson-2.2.4\n",
            "Requirement already satisfied: requests in /usr/local/lib/python3.6/dist-packages (2.23.0)\n",
            "Requirement already satisfied: idna<3,>=2.5 in /usr/local/lib/python3.6/dist-packages (from requests) (2.10)\n",
            "Requirement already satisfied: certifi>=2017.4.17 in /usr/local/lib/python3.6/dist-packages (from requests) (2020.12.5)\n",
            "Requirement already satisfied: chardet<4,>=3.0.2 in /usr/local/lib/python3.6/dist-packages (from requests) (3.0.4)\n",
            "Requirement already satisfied: urllib3!=1.25.0,!=1.25.1,<1.26,>=1.21.1 in /usr/local/lib/python3.6/dist-packages (from requests) (1.24.3)\n",
            "Collecting pypdf2\n",
            "\u001b[?25l  Downloading https://files.pythonhosted.org/packages/b4/01/68fcc0d43daf4c6bdbc6b33cc3f77bda531c86b174cac56ef0ffdb96faab/PyPDF2-1.26.0.tar.gz (77kB)\n",
            "\u001b[K     |████████████████████████████████| 81kB 5.1MB/s \n",
            "\u001b[?25hBuilding wheels for collected packages: pypdf2\n",
            "  Building wheel for pypdf2 (setup.py) ... \u001b[?25l\u001b[?25hdone\n",
            "  Created wheel for pypdf2: filename=PyPDF2-1.26.0-cp36-none-any.whl size=61087 sha256=67be21611860df9036b00853b79af0c763e417c511cc21b231519b739d3a413d\n",
            "  Stored in directory: /root/.cache/pip/wheels/53/84/19/35bc977c8bf5f0c23a8a011aa958acd4da4bbd7a229315c1b7\n",
            "Successfully built pypdf2\n",
            "Installing collected packages: pypdf2\n",
            "Successfully installed pypdf2-1.26.0\n"
          ],
          "name": "stdout"
        }
      ]
    },
    {
      "cell_type": "code",
      "metadata": {
        "id": "0Qxti4nNvoz0"
      },
      "source": [
        "import pandas as pd\n",
        "import numpy as np\n",
        "\n",
        "import requests, json\n",
        "import demjson\n",
        "from pprint import pprint"
      ],
      "execution_count": null,
      "outputs": []
    },
    {
      "cell_type": "markdown",
      "metadata": {
        "id": "SLs6VCQ-IFq4"
      },
      "source": [
        "  * *Reads JSON objects of newsfeeds from the data file into:*\n",
        "    * *A list or an array of Python dictionaries, or*\n",
        "    * *A Pandas dataframe*\n",
        "---"
      ]
    },
    {
      "cell_type": "code",
      "metadata": {
        "id": "DJ6Ww-CTDtkA",
        "colab": {
          "base_uri": "https://localhost:8080/",
          "height": 217
        },
        "outputId": "77afed68-aa71-4a8f-b1cb-27d169bdf06a"
      },
      "source": [
        "json_data=open(\"webhose_apple.json\").readlines()\n",
        "newsfeeds = []\n",
        "\n",
        "for line in json_data:\n",
        "    newsfeeds.append(line)"
      ],
      "execution_count": null,
      "outputs": [
        {
          "output_type": "error",
          "ename": "FileNotFoundError",
          "evalue": "ignored",
          "traceback": [
            "\u001b[0;31m---------------------------------------------------------------------------\u001b[0m",
            "\u001b[0;31mFileNotFoundError\u001b[0m                         Traceback (most recent call last)",
            "\u001b[0;32m<ipython-input-1-a0d1099f05f3>\u001b[0m in \u001b[0;36m<module>\u001b[0;34m()\u001b[0m\n\u001b[0;32m----> 1\u001b[0;31m \u001b[0mjson_data\u001b[0m\u001b[0;34m=\u001b[0m\u001b[0mopen\u001b[0m\u001b[0;34m(\u001b[0m\u001b[0;34m\"webhose_apple.json\"\u001b[0m\u001b[0;34m)\u001b[0m\u001b[0;34m.\u001b[0m\u001b[0mreadlines\u001b[0m\u001b[0;34m(\u001b[0m\u001b[0;34m)\u001b[0m\u001b[0;34m\u001b[0m\u001b[0;34m\u001b[0m\u001b[0m\n\u001b[0m\u001b[1;32m      2\u001b[0m \u001b[0mnewsfeeds\u001b[0m \u001b[0;34m=\u001b[0m \u001b[0;34m[\u001b[0m\u001b[0;34m]\u001b[0m\u001b[0;34m\u001b[0m\u001b[0;34m\u001b[0m\u001b[0m\n\u001b[1;32m      3\u001b[0m \u001b[0;32mfor\u001b[0m \u001b[0mline\u001b[0m \u001b[0;32min\u001b[0m \u001b[0mjson_data\u001b[0m\u001b[0;34m:\u001b[0m\u001b[0;34m\u001b[0m\u001b[0;34m\u001b[0m\u001b[0m\n\u001b[1;32m      4\u001b[0m     \u001b[0mnewsfeeds\u001b[0m\u001b[0;34m.\u001b[0m\u001b[0mappend\u001b[0m\u001b[0;34m(\u001b[0m\u001b[0mline\u001b[0m\u001b[0;34m)\u001b[0m\u001b[0;34m\u001b[0m\u001b[0;34m\u001b[0m\u001b[0m\n",
            "\u001b[0;31mFileNotFoundError\u001b[0m: [Errno 2] No such file or directory: 'webhose_apple.json'"
          ]
        }
      ]
    },
    {
      "cell_type": "code",
      "metadata": {
        "id": "8hcFhanvEYug"
      },
      "source": [
        "with open(\"webhose_apple.json\", \"w\") as data_file:\n",
        "    for feed in newsfeeds:\n",
        "        line = json.dumps(feed)\n",
        "        data_file.write(line)\n",
        "        data_file.write(\"\\n\")"
      ],
      "execution_count": null,
      "outputs": []
    },
    {
      "cell_type": "markdown",
      "metadata": {
        "id": "GkUgKpwSIayc"
      },
      "source": [
        "  * *Prints the schema of the JSON object:*\n",
        "---"
      ]
    },
    {
      "cell_type": "code",
      "metadata": {
        "id": "NmGtnkmSJuBA",
        "colab": {
          "base_uri": "https://localhost:8080/"
        },
        "outputId": "9442f741-dff8-412a-e02d-81c3a7855cbb"
      },
      "source": [
        "newsfeeds[0]['entities']"
      ],
      "execution_count": null,
      "outputs": [
        {
          "output_type": "execute_result",
          "data": {
            "text/plain": [
              "{'locations': [{'name': 'lightning port apple', 'sentiment': 'none'}],\n",
              " 'organizations': [{'name': 'apple', 'sentiment': 'none'}],\n",
              " 'persons': [{'name': 'mac otakara', 'sentiment': 'none'}]}"
            ]
          },
          "metadata": {
            "tags": []
          },
          "execution_count": 123
        }
      ]
    },
    {
      "cell_type": "markdown",
      "metadata": {
        "id": "Xo_REBLdIf14"
      },
      "source": [
        "  * *Prints the number of newsfeeds (JSON objects) in the collection:*\n",
        "---"
      ]
    },
    {
      "cell_type": "code",
      "metadata": {
        "id": "YXRamn3wJupo",
        "colab": {
          "base_uri": "https://localhost:8080/"
        },
        "outputId": "4a3854c7-5630-49e8-b1d4-3abcd515463d"
      },
      "source": [
        "print(len(newsfeeds))"
      ],
      "execution_count": null,
      "outputs": [
        {
          "output_type": "stream",
          "text": [
            "370\n"
          ],
          "name": "stdout"
        }
      ]
    },
    {
      "cell_type": "markdown",
      "metadata": {
        "id": "z3WRdp0jIn2Y"
      },
      "source": [
        "  * *Creates a set of unique newsfeeds by title, and*\n",
        "  * *Prints the new total collection size*\n",
        "  ---"
      ]
    },
    {
      "cell_type": "code",
      "metadata": {
        "id": "64GkERKcJvew",
        "colab": {
          "base_uri": "https://localhost:8080/"
        },
        "outputId": "01a0fa13-ee71-432e-cca1-ca0cf220c0d1"
      },
      "source": [
        "titles = []\n",
        "\n",
        "for feed in newsfeeds:\n",
        "  title = feed.get('title')\n",
        "  if title not in titles:\n",
        "    titles.append(feed)\n",
        "\n",
        "print(len(titles))"
      ],
      "execution_count": null,
      "outputs": [
        {
          "output_type": "stream",
          "text": [
            "370\n"
          ],
          "name": "stdout"
        }
      ]
    },
    {
      "cell_type": "code",
      "metadata": {
        "colab": {
          "base_uri": "https://localhost:8080/"
        },
        "id": "mWil_T_ugyk8",
        "outputId": "041be145-8e2b-45a5-f55b-dbf9f10b28fb"
      },
      "source": [
        "news100 = []\n",
        "\n",
        "for feed in newsfeeds[0:99]:\n",
        "  news100.append(feed)\n",
        "\n",
        "print(len(news100))"
      ],
      "execution_count": null,
      "outputs": [
        {
          "output_type": "stream",
          "text": [
            "99\n"
          ],
          "name": "stdout"
        }
      ]
    },
    {
      "cell_type": "markdown",
      "metadata": {
        "id": "BbvDg2EhI5ho"
      },
      "source": [
        "  * *Prints the latest 100:*\n",
        "    * *Article Titles,*\n",
        "    * *Urls,*\n",
        "    * *Publish Dates*\n",
        "  ---"
      ]
    },
    {
      "cell_type": "code",
      "metadata": {
        "id": "gaJbhJ9fJwjg"
      },
      "source": [
        "print(news100)\n",
        "\n",
        "for feed in news100:\n",
        "    print(feed['title'])\n",
        "    print(feed['url'])\n",
        "    print(feed['published'])\n",
        "    break"
      ],
      "execution_count": null,
      "outputs": []
    }
  ]
}
