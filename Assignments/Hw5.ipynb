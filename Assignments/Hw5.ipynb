{
  "nbformat": 4,
  "nbformat_minor": 0,
  "metadata": {
    "colab": {
      "name": "5430_Assignment5_chb2132.ipynb",
      "provenance": [],
      "collapsed_sections": []
    },
    "kernelspec": {
      "name": "python3",
      "display_name": "Python 3"
    }
  },
  "cells": [
    {
      "cell_type": "markdown",
      "metadata": {
        "id": "wl90a7f1vIbU"
      },
      "source": [
        "#`5430 NLP | SPRING 2021 | ASSIGNMENT 5 | UNI: CHB2132 `#\n",
        "\n",
        "\n",
        "---\n",
        "\n",
        "\n",
        "> Select an article from Webhose dataset and write a program that:\n",
        "\n",
        "> 1. Extract and print subject-verb-object (SVO) relations from each sentence\n",
        "\n",
        "> 2. Apply TextRank for ranking and selecting key phrases, print the result\n",
        "\n",
        "> 3. Apply LexRank to produce an extractive summary of 5 sentences."
      ]
    },
    {
      "cell_type": "markdown",
      "metadata": {
        "id": "F2UvFZ19VqLI"
      },
      "source": [
        "**1. Extract and print subject-verb-object (SVO) relations from each sentence**\n",
        "\n",
        "---"
      ]
    },
    {
      "cell_type": "code",
      "metadata": {
        "id": "LbEL8mFHxKFw"
      },
      "source": [
        "import spacy\n",
        "nlp = spacy.load('en_core_web_sm')"
      ],
      "execution_count": null,
      "outputs": []
    },
    {
      "cell_type": "code",
      "metadata": {
        "id": "cP81W5f4xKlA"
      },
      "source": [
        "SUBJECTS = [\"nsubj\", \"nsubjpass\", \"csubj\", \"csubjpass\", \"agent\", \"expl\"]\n",
        "OBJECTS = [\"dobj\", \"dative\", \"attr\", \"oprd\"]"
      ],
      "execution_count": null,
      "outputs": []
    },
    {
      "cell_type": "code",
      "metadata": {
        "id": "EbOCr4ynSW5Q"
      },
      "source": [
        "def getSubsFromConjunctions(subs):\n",
        "    moreSubs = []\n",
        "    for sub in subs:\n",
        "        # rights is a generator\n",
        "        rights = list(sub.rights)\n",
        "        rightDeps = {tok.lower_ for tok in rights}\n",
        "        if \"and\" in rightDeps:\n",
        "            moreSubs.extend([tok for tok in rights if tok.dep_ in SUBJECTS or tok.pos_ == \"NOUN\"])\n",
        "            if len(moreSubs) > 0:\n",
        "                moreSubs.extend(getSubsFromConjunctions(moreSubs))\n",
        "    return moreSubs"
      ],
      "execution_count": null,
      "outputs": []
    },
    {
      "cell_type": "code",
      "metadata": {
        "id": "tgxisw8GSbGA"
      },
      "source": [
        "def getObjsFromConjunctions(objs):\n",
        "    moreObjs = []\n",
        "    for obj in objs:\n",
        "        # rights is a generator\n",
        "        rights = list(obj.rights)\n",
        "        rightDeps = {tok.lower_ for tok in rights}\n",
        "        if \"and\" in rightDeps:\n",
        "            moreObjs.extend([tok for tok in rights if tok.dep_ in OBJECTS or tok.pos_ == \"NOUN\"])\n",
        "            if len(moreObjs) > 0:\n",
        "                moreObjs.extend(getObjsFromConjunctions(moreObjs))\n",
        "    return moreObjs"
      ],
      "execution_count": null,
      "outputs": []
    },
    {
      "cell_type": "code",
      "metadata": {
        "id": "Lwd2MHCvScN4"
      },
      "source": [
        "def getVerbsFromConjunctions(verbs):\n",
        "    moreVerbs = []\n",
        "    for verb in verbs:\n",
        "        rightDeps = {tok.lower_ for tok in verb.rights}\n",
        "        if \"and\" in rightDeps:\n",
        "            moreVerbs.extend([tok for tok in verb.rights if tok.pos_ == \"VERB\"])\n",
        "            if len(moreVerbs) > 0:\n",
        "                moreVerbs.extend(getVerbsFromConjunctions(moreVerbs))\n",
        "    return moreVerbs"
      ],
      "execution_count": null,
      "outputs": []
    },
    {
      "cell_type": "code",
      "metadata": {
        "id": "-AKsAHjKSdN8"
      },
      "source": [
        "def findSubs(tok):\n",
        "  head = tok.head\n",
        "  while head.pos_ != \"VERB\" and head.pos_ != \"NOUN\" and head.head != head:\n",
        "      head = head.head\n",
        "  if head.pos_ == \"VERB\":\n",
        "      subs = [tok for tok in head.lefts if tok.dep_ == \"SUB\"]\n",
        "      if len(subs) > 0:\n",
        "          verbNegated = isNegated(head)\n",
        "          subs.extend(getSubsFromConjunctions(subs))\n",
        "          return subs, verbNegated\n",
        "      elif head.head != head:\n",
        "          return findSubs(head)\n",
        "  elif head.pos_ == \"NOUN\":\n",
        "      return [head], isNegated(tok)\n",
        "  return [], False"
      ],
      "execution_count": null,
      "outputs": []
    },
    {
      "cell_type": "code",
      "metadata": {
        "id": "B2TY67onSeu0"
      },
      "source": [
        "def isNegated(tok):\n",
        "    negations = {\"no\", \"not\", \"n't\", \"never\", \"none\"}\n",
        "    for dep in list(tok.lefts) + list(tok.rights):\n",
        "        if dep.lower_ in negations:\n",
        "            return True\n",
        "    return False"
      ],
      "execution_count": null,
      "outputs": []
    },
    {
      "cell_type": "code",
      "metadata": {
        "id": "OOzk1kRgSgBo"
      },
      "source": [
        "def findSVs(tokens):\n",
        "    svs = []\n",
        "    verbs = [tok for tok in tokens if tok.pos_ == \"VERB\"]\n",
        "    for v in verbs:\n",
        "        subs, verbNegated = getAllSubs(v)\n",
        "        if len(subs) > 0:\n",
        "            for sub in subs:\n",
        "                svs.append((sub.orth_, \"!\" + v.orth_ if verbNegated else v.orth_))\n",
        "    return svs"
      ],
      "execution_count": null,
      "outputs": []
    },
    {
      "cell_type": "code",
      "metadata": {
        "id": "9i6dxP_yShJg"
      },
      "source": [
        "def getObjsFromPrepositions(deps):\n",
        "    objs = []\n",
        "    for dep in deps:\n",
        "        if dep.pos_ == \"ADP\" and dep.dep_ == \"prep\":\n",
        "            objs.extend([tok for tok in dep.rights if tok.dep_  in OBJECTS or (tok.pos_ == \"PRON\" and tok.lower_ == \"me\")])\n",
        "    return objs"
      ],
      "execution_count": null,
      "outputs": []
    },
    {
      "cell_type": "code",
      "metadata": {
        "id": "xm2EjzlmSiUg"
      },
      "source": [
        "def getObjsFromAttrs(deps):\n",
        "    for dep in deps:\n",
        "        if dep.pos_ == \"NOUN\" and dep.dep_ == \"attr\":\n",
        "            verbs = [tok for tok in dep.rights if tok.pos_ == \"VERB\"]\n",
        "            if len(verbs) > 0:\n",
        "                for v in verbs:\n",
        "                    rights = list(v.rights)\n",
        "                    objs = [tok for tok in rights if tok.dep_ in OBJECTS]\n",
        "                    objs.extend(getObjsFromPrepositions(rights))\n",
        "                    if len(objs) > 0:\n",
        "                        return v, objs\n",
        "    return None, None"
      ],
      "execution_count": null,
      "outputs": []
    },
    {
      "cell_type": "code",
      "metadata": {
        "id": "BnHrVaQLSjio"
      },
      "source": [
        "def getObjFromXComp(deps):\n",
        "    for dep in deps:\n",
        "        if dep.pos_ == \"VERB\" and dep.dep_ == \"xcomp\":\n",
        "            v = dep\n",
        "            rights = list(v.rights)\n",
        "            objs = [tok for tok in rights if tok.dep_ in OBJECTS]\n",
        "            objs.extend(getObjsFromPrepositions(rights))\n",
        "            if len(objs) > 0:\n",
        "                return v, objs\n",
        "    return None, None"
      ],
      "execution_count": null,
      "outputs": []
    },
    {
      "cell_type": "code",
      "metadata": {
        "id": "mYZj5ZYFSl7w"
      },
      "source": [
        "def getAllObjs(v):\n",
        "    # rights is a generator\n",
        "    rights = list(v.rights)\n",
        "    objs = [tok for tok in rights if tok.dep_ in OBJECTS]\n",
        "    objs.extend(getObjsFromPrepositions(rights))\n",
        "\n",
        "    #potentialNewVerb, potentialNewObjs = getObjsFromAttrs(rights)\n",
        "    #if potentialNewVerb is not None and potentialNewObjs is not None and len(potentialNewObjs) > 0:\n",
        "    #    objs.extend(potentialNewObjs)\n",
        "    #    v = potentialNewVerb\n",
        "\n",
        "    potentialNewVerb, potentialNewObjs = getObjFromXComp(rights)\n",
        "    if potentialNewVerb is not None and potentialNewObjs is not None and len(potentialNewObjs) > 0:\n",
        "        objs.extend(potentialNewObjs)\n",
        "        v = potentialNewVerb\n",
        "    if len(objs) > 0:\n",
        "        objs.extend(getObjsFromConjunctions(objs))\n",
        "    return v, objs"
      ],
      "execution_count": null,
      "outputs": []
    },
    {
      "cell_type": "code",
      "metadata": {
        "id": "8KK7XddQSkz4"
      },
      "source": [
        "def getAllSubs(v):\n",
        "    verbNegated = isNegated(v)\n",
        "    subs = [tok for tok in v.lefts if tok.dep_ in SUBJECTS and tok.pos_ != \"DET\"]\n",
        "    if len(subs) > 0:\n",
        "        subs.extend(getSubsFromConjunctions(subs))\n",
        "    else:\n",
        "        foundSubs, verbNegated = findSubs(v)\n",
        "        subs.extend(foundSubs)\n",
        "    return subs, verbNegated"
      ],
      "execution_count": null,
      "outputs": []
    },
    {
      "cell_type": "code",
      "metadata": {
        "id": "evI25VIzxKgU"
      },
      "source": [
        "def findSVOs(tokens):\n",
        "    svos = []\n",
        "    verbs = [tok for tok in tokens if tok.pos_ == \"VERB\" and tok.dep_ != \"aux\"]\n",
        "    for v in verbs:\n",
        "        subs, verbNegated = getAllSubs(v)\n",
        "        # hopefully there are subs, if not, don't examine this verb any longer\n",
        "        if len(subs) > 0:\n",
        "            v, objs = getAllObjs(v)\n",
        "            for sub in subs:\n",
        "                for obj in objs:\n",
        "                    objNegated = isNegated(obj)\n",
        "                    svos.append((sub.lower_, \"!\" + v.lower_ if verbNegated or objNegated else v.lower_, obj.lower_))\n",
        "    return svos"
      ],
      "execution_count": null,
      "outputs": []
    },
    {
      "cell_type": "code",
      "metadata": {
        "id": "n8IzODScRecw"
      },
      "source": [
        "def printDeps(toks):\n",
        "    for tok in toks:\n",
        "        print(tok.orth_, tok.dep_, tok.pos_, tok.head.orth_, [t.orth_ for t in tok.lefts], [t.orth_ for t in tok.rights])\n",
        "\n",
        "def testSVOs():\n",
        "\n",
        "    SENTENCE0 = '''Apple removed the headphone jack from the iPhone nearly four years ago in September 2016, and this year it may take those efforts one step further by nixing its wired EarPods from the iPhone 12 packaging, according to the latest predictions from TF International Securities analyst Ming-Chi Kuo.'''\n",
        "    \n",
        "    SENTENCE1 = '''Kuo, who has been accurate about some Apple product predictions in the past, said that Apple may offer promotions or discounts on the AirPods around the holiday season, according to 9to5Mac.'''\n",
        "    \n",
        "    SENTENCE2 = '''The report does not specify whether these expected discounts would pertain to the second-generation regular AirPods, which sell for $159 or $199 with the wireless charging case, or the $249 AirPods Pro.'''\n",
        "\n",
        "    SENTENCE3 = '''Apple also sells its wired EarPods through its website for $29.'''\n",
        "    \n",
        "    SENTENCE4 = '''Apple's removal of the headphone jack with the iPhone 7 was met with controversy, with some tech critics disapproving of the decision and calling it \"user-hostile\" at the time.'''\n",
        "    \n",
        "    SENTENCE5 = '''Kuo reported in a previous note from December that Apple may be planning to release its first totally wireless iPhone in 2021.'''\n",
        "\n",
        "    SENTENCE6 = '''That phone would likely be the most expensive one in Apple's 2021 lineup, and Kuo didn't offer any additional details other than that it would offer a completely wireless experience.''' \n",
        "    \n",
        "    SENTENCE7 = '''Phil Schiller, Apple's senior vice president of worldwide marketing, talked about the company's move toward wireless when unveiling the original AirPods in 2016.'''\n",
        "    \n",
        "    SENTENCE8 = '''It makes no sense to tether ourselves with cables to our mobile devices, he said during the company's keynote.'''\n",
        "    \n",
        "    SENTENCE9 = '''AirPods have become an increasingly important part of Apple's product lineup since their 2016 debut.'''\n",
        "    \n",
        "    SENTENCE10 = '''The success of both the Apple Watch and AirPods has made Apple the top maker of wearable devices in the world during the fourth quarter of 2019, according to The International Data Corporation.'''\n",
        "\n",
        "    tok = nlp(SENTENCE0)\n",
        "    svos = findSVOs(tok)\n",
        "    print(svos)\n",
        "    print(\"-----------------------------------------------\")\n",
        "    \n",
        "    tok = nlp(SENTENCE1)\n",
        "    svos = findSVOs(tok)\n",
        "    print(svos)\n",
        "    print(\"-----------------------------------------------\")\n",
        "    \n",
        "    tok = nlp(SENTENCE2)\n",
        "    svos = findSVOs(tok)\n",
        "    print(svos)\n",
        "    print(\"-----------------------------------------------\")\n",
        "\n",
        "    tok = nlp(SENTENCE3)\n",
        "    svos = findSVOs(tok)\n",
        "    print(svos)\n",
        "    print(\"-----------------------------------------------\")\n",
        "\n",
        "    tok = nlp(SENTENCE4)\n",
        "    svos = findSVOs(tok)\n",
        "    print(svos)\n",
        "    print(\"-----------------------------------------------\")\n",
        "\n",
        "\n",
        "    tok = nlp(SENTENCE5)\n",
        "    svos = findSVOs(tok)\n",
        "    print(svos)\n",
        "    print(\"-----------------------------------------------\")\n",
        "\n",
        "\n",
        "    tok = nlp(SENTENCE6)\n",
        "    svos = findSVOs(tok)\n",
        "    print(svos)\n",
        "    print(\"-----------------------------------------------\")\n",
        "\n",
        "\n",
        "    tok = nlp(SENTENCE7)\n",
        "    svos = findSVOs(tok)\n",
        "    print(svos)\n",
        "    print(\"-----------------------------------------------\")\n",
        "\n",
        "\n",
        "    tok = nlp(SENTENCE8)\n",
        "    svos = findSVOs(tok)\n",
        "    print(svos)\n",
        "    print(\"-----------------------------------------------\")\n",
        "\n",
        "\n",
        "    tok = nlp(SENTENCE9)\n",
        "    svos = findSVOs(tok)\n",
        "    print(svos)\n",
        "    print(\"-----------------------------------------------\")\n",
        "\n",
        "\n",
        "    tok = nlp(SENTENCE10)\n",
        "    svos = findSVOs(tok)\n",
        "    print(svos)\n",
        "    print(\"-----------------------------------------------\")\n",
        "\n",
        "    #printDeps(tok)\n",
        "    #assert set(svos) == {('apple', 'removed', 'jack')}"
      ],
      "execution_count": null,
      "outputs": []
    },
    {
      "cell_type": "code",
      "metadata": {
        "colab": {
          "base_uri": "https://localhost:8080/"
        },
        "id": "mf3kAClYRk2I",
        "outputId": "fbde888d-6521-4047-b8ec-f8a18f28a9e4"
      },
      "source": [
        "if __name__ == \"__main__\":\n",
        "    testSVOs()"
      ],
      "execution_count": null,
      "outputs": [
        {
          "output_type": "stream",
          "text": [
            "[('apple', 'removed', 'jack'), ('it', 'take', 'efforts')]\n",
            "-----------------------------------------------\n",
            "[('apple', 'offer', 'promotions')]\n",
            "-----------------------------------------------\n",
            "[]\n",
            "-----------------------------------------------\n",
            "[('apple', 'sells', 'earpods')]\n",
            "-----------------------------------------------\n",
            "[]\n",
            "-----------------------------------------------\n",
            "[('apple', 'release', 'iphone')]\n",
            "-----------------------------------------------\n",
            "[('kuo', '!offer', 'details'), ('it', 'offer', 'experience')]\n",
            "-----------------------------------------------\n",
            "[]\n",
            "-----------------------------------------------\n",
            "[('it', '!makes', 'sense')]\n",
            "-----------------------------------------------\n",
            "[('airpods', 'become', 'part')]\n",
            "-----------------------------------------------\n",
            "[]\n",
            "-----------------------------------------------\n"
          ],
          "name": "stdout"
        }
      ]
    },
    {
      "cell_type": "markdown",
      "metadata": {
        "id": "vH8Sq8B4Vgpw"
      },
      "source": [
        "**2. Apply TextRank for ranking and selecting key phrases, print the result**\n",
        "\n",
        "---"
      ]
    },
    {
      "cell_type": "code",
      "metadata": {
        "id": "8rRE5jnNxIEE"
      },
      "source": [
        "from collections import OrderedDict\n",
        "import numpy as np\n",
        "import spacy\n",
        "from spacy.lang.en.stop_words import STOP_WORDS"
      ],
      "execution_count": null,
      "outputs": []
    },
    {
      "cell_type": "code",
      "metadata": {
        "id": "wDpu_9XrYPuc"
      },
      "source": [
        "nlp = spacy.load('en_core_web_sm')"
      ],
      "execution_count": null,
      "outputs": []
    },
    {
      "cell_type": "code",
      "metadata": {
        "id": "ZcntQABuYPoM"
      },
      "source": [
        "class TextRank4Keyword():\n",
        "    \"\"\"Extract keywords from text\"\"\"\n",
        "    \n",
        "    def __init__(self):\n",
        "        self.d = 0.85 # damping coefficient, usually is .85\n",
        "        self.min_diff = 1e-5 # convergence threshold\n",
        "        self.steps = 10 # iteration steps\n",
        "        self.node_weight = None # save keywords and its weight\n",
        "\n",
        "    \n",
        "    def set_stopwords(self, stopwords):  \n",
        "        \"\"\"Set stop words\"\"\"\n",
        "        for word in STOP_WORDS.union(set(stopwords)):\n",
        "            lexeme = nlp.vocab[word]\n",
        "            lexeme.is_stop = True\n",
        "    \n",
        "    def sentence_segment(self, doc, candidate_pos, lower):\n",
        "        \"\"\"Store those words only in cadidate_pos\"\"\"\n",
        "        sentences = []\n",
        "        for sent in doc.sents:\n",
        "            selected_words = []\n",
        "            for token in sent:\n",
        "                # Store words only with cadidate POS tag\n",
        "                if token.pos_ in candidate_pos and token.is_stop is False:\n",
        "                    if lower is True:\n",
        "                        selected_words.append(token.text.lower())\n",
        "                    else:\n",
        "                        selected_words.append(token.text)\n",
        "            sentences.append(selected_words)\n",
        "        return sentences\n",
        "        \n",
        "    def get_vocab(self, sentences):\n",
        "        \"\"\"Get all tokens\"\"\"\n",
        "        vocab = OrderedDict()\n",
        "        i = 0\n",
        "        for sentence in sentences:\n",
        "            for word in sentence:\n",
        "                if word not in vocab:\n",
        "                    vocab[word] = i\n",
        "                    i += 1\n",
        "        return vocab\n",
        "    \n",
        "    def get_token_pairs(self, window_size, sentences):\n",
        "        \"\"\"Build token_pairs from windows in sentences\"\"\"\n",
        "        token_pairs = list()\n",
        "        for sentence in sentences:\n",
        "            for i, word in enumerate(sentence):\n",
        "                for j in range(i+1, i+window_size):\n",
        "                    if j >= len(sentence):\n",
        "                        break\n",
        "                    pair = (word, sentence[j])\n",
        "                    if pair not in token_pairs:\n",
        "                        token_pairs.append(pair)\n",
        "        return token_pairs\n",
        "        \n",
        "    def symmetrize(self, a):\n",
        "        return a + a.T - np.diag(a.diagonal())\n",
        "    \n",
        "    def get_matrix(self, vocab, token_pairs):\n",
        "        \"\"\"Get normalized matrix\"\"\"\n",
        "        # Build matrix\n",
        "        vocab_size = len(vocab)\n",
        "        g = np.zeros((vocab_size, vocab_size), dtype='float')\n",
        "        for word1, word2 in token_pairs:\n",
        "            i, j = vocab[word1], vocab[word2]\n",
        "            g[i][j] = 1\n",
        "            \n",
        "        # Get Symmeric matrix\n",
        "        g = self.symmetrize(g)\n",
        "        \n",
        "        # Normalize matrix by column\n",
        "        norm = np.sum(g, axis=0)\n",
        "        g_norm = np.divide(g, norm, where=norm!=0) # this is ignore the 0 element in norm\n",
        "        \n",
        "        return g_norm\n",
        "\n",
        "    \n",
        "    def get_keywords(self, number=10):\n",
        "        \"\"\"Print top number keywords\"\"\"\n",
        "        node_weight = OrderedDict(sorted(self.node_weight.items(), key=lambda t: t[1], reverse=True))\n",
        "        for i, (key, value) in enumerate(node_weight.items()):\n",
        "            print(key + ' - ' + str(value))\n",
        "            if i > number:\n",
        "                break\n",
        "        \n",
        "        \n",
        "    def analyze(self, text, \n",
        "                candidate_pos=['NOUN', 'PROPN'], \n",
        "                window_size=4, lower=False, stopwords=list()):\n",
        "        \"\"\"Main function to analyze text\"\"\"\n",
        "        \n",
        "        # Set stop words\n",
        "        self.set_stopwords(stopwords)\n",
        "        \n",
        "        # Pare text by spaCy\n",
        "        doc = nlp(text)\n",
        "        \n",
        "        # Filter sentences\n",
        "        sentences = self.sentence_segment(doc, candidate_pos, lower) # list of list of words\n",
        "        \n",
        "        # Build vocabulary\n",
        "        vocab = self.get_vocab(sentences)\n",
        "        \n",
        "        # Get token_pairs from windows\n",
        "        token_pairs = self.get_token_pairs(window_size, sentences)\n",
        "        \n",
        "        # Get normalized matrix\n",
        "        g = self.get_matrix(vocab, token_pairs)\n",
        "        \n",
        "        # Initionlization for weight(pagerank value)\n",
        "        pr = np.array([1] * len(vocab))\n",
        "        \n",
        "        # Iteration\n",
        "        previous_pr = 0\n",
        "        for epoch in range(self.steps):\n",
        "            pr = (1-self.d) + self.d * np.dot(g, pr)\n",
        "            if abs(previous_pr - sum(pr))  < self.min_diff:\n",
        "                break\n",
        "            else:\n",
        "                previous_pr = sum(pr)\n",
        "\n",
        "        # Get weight for each node\n",
        "        node_weight = dict()\n",
        "        for word, index in vocab.items():\n",
        "            node_weight[word] = pr[index]\n",
        "        \n",
        "        self.node_weight = node_weight"
      ],
      "execution_count": null,
      "outputs": []
    },
    {
      "cell_type": "code",
      "metadata": {
        "id": "dfGKD_jSYSGA"
      },
      "source": [
        "keyphrase_extractor = TextRank4Keyword()"
      ],
      "execution_count": null,
      "outputs": []
    },
    {
      "cell_type": "code",
      "metadata": {
        "id": "z_DxFoGXYS_0"
      },
      "source": [
        "text = '''Apple removed the headphone jack from the iPhone nearly four years ago in September 2016, and this year it may take those efforts one step further by nixing its wired EarPods from the iPhone 12 packaging, according to the latest predictions from TF International Securities analyst Ming-Chi Kuo. \n",
        "\n",
        "          Kuo, who has been accurate about some Apple product predictions in the past, said that Apple may offer promotions or discounts on the AirPods around the holiday season, according to 9to5Mac. \n",
        "\n",
        "          The report does not specify whether these expected discounts would pertain to the second-generation regular AirPods, which sell for $159 or $199 with the wireless charging case, or the $249 AirPods Pro. \n",
        "          \n",
        "          Apple also sells its wired EarPods through its website for $29.\n",
        "    \n",
        "          Apple's removal of the headphone jack with the iPhone 7 was met with controversy, with some tech critics disapproving of the decision and calling it \"user-hostile\" at the time.\n",
        "    \n",
        "          Kuo reported in a previous note from December that Apple may be planning to release its first totally wireless iPhone in 2021.\n",
        "\n",
        "          That phone would likely be the most expensive one in Apple's 2021 lineup, and Kuo didn't offer any additional details other than that it would offer a completely wireless experience.\n",
        "    \n",
        "          Phil Schiller, Apple's senior vice president of worldwide marketing, talked about the company's move toward wireless when unveiling the original AirPods in 2016.\n",
        "    \n",
        "          It makes no sense to tether ourselves with cables to our mobile devices, he said during the company's keynote.\n",
        "    \n",
        "          AirPods have become an increasingly important part of Apple's product lineup since their 2016 debut.\n",
        "    \n",
        "          The success of both the Apple Watch and AirPods has made Apple the top maker of wearable devices in the world during the fourth quarter of 2019, according to The International Data Corporation.'''\n"
      ],
      "execution_count": null,
      "outputs": []
    },
    {
      "cell_type": "code",
      "metadata": {
        "colab": {
          "base_uri": "https://localhost:8080/"
        },
        "id": "DzE5AC44YU80",
        "outputId": "aaa87320-6ed8-417d-bea7-4680f50feb29"
      },
      "source": [
        "tr4w = TextRank4Keyword()\n",
        "tr4w.analyze(text, candidate_pos = ['NOUN', 'PROPN',\"ADP\"], window_size=8, lower=False)\n",
        "tr4w.get_keywords(10)"
      ],
      "execution_count": null,
      "outputs": [
        {
          "output_type": "stream",
          "text": [
            "Apple - 4.289341349094153\n",
            "AirPods - 2.8901379612268823\n",
            "iPhone - 2.45597989192802\n",
            "predictions - 1.8447739264264218\n",
            "Kuo - 1.8224049087597662\n",
            "International - 1.6813454174664981\n",
            "devices - 1.4942342561688458\n",
            "company - 1.4205085157873065\n",
            "discounts - 1.3437843412018382\n",
            "jack - 1.2445233386911432\n",
            "EarPods - 1.1803789770457653\n",
            "product - 1.16757434664517\n"
          ],
          "name": "stdout"
        }
      ]
    },
    {
      "cell_type": "markdown",
      "metadata": {
        "id": "cS9b4XhdZP9Y"
      },
      "source": [
        "**3. Apply LexRank to produce an extractive summary of 5 sentences.**\n",
        "\n",
        "---"
      ]
    },
    {
      "cell_type": "code",
      "metadata": {
        "colab": {
          "base_uri": "https://localhost:8080/"
        },
        "id": "wVfdGXOxcy6Y",
        "outputId": "9886aefe-4292-46ef-c8db-6b431d19987e"
      },
      "source": [
        "!pip install sumy  \n",
        "\n",
        "import nltk\n",
        "nltk.download('punkt')\n",
        "\n",
        "from sumy.parsers.plaintext import PlaintextParser\n",
        "from sumy.parsers.html import HtmlParser\n",
        "from sumy.nlp.tokenizers import Tokenizer\n",
        "from sumy.summarizers.lex_rank import LexRankSummarizer"
      ],
      "execution_count": null,
      "outputs": [
        {
          "output_type": "stream",
          "text": [
            "Requirement already satisfied: sumy in /usr/local/lib/python3.6/dist-packages (0.8.1)\n",
            "Requirement already satisfied: docopt<0.7,>=0.6.1 in /usr/local/lib/python3.6/dist-packages (from sumy) (0.6.2)\n",
            "Requirement already satisfied: pycountry>=18.2.23 in /usr/local/lib/python3.6/dist-packages (from sumy) (20.7.3)\n",
            "Requirement already satisfied: breadability>=0.1.20 in /usr/local/lib/python3.6/dist-packages (from sumy) (0.1.20)\n",
            "Requirement already satisfied: nltk>=3.0.2 in /usr/local/lib/python3.6/dist-packages (from sumy) (3.2.5)\n",
            "Requirement already satisfied: requests>=2.7.0 in /usr/local/lib/python3.6/dist-packages (from sumy) (2.23.0)\n",
            "Requirement already satisfied: lxml>=2.0 in /usr/local/lib/python3.6/dist-packages (from breadability>=0.1.20->sumy) (4.2.6)\n",
            "Requirement already satisfied: chardet in /usr/local/lib/python3.6/dist-packages (from breadability>=0.1.20->sumy) (3.0.4)\n",
            "Requirement already satisfied: six in /usr/local/lib/python3.6/dist-packages (from nltk>=3.0.2->sumy) (1.15.0)\n",
            "Requirement already satisfied: idna<3,>=2.5 in /usr/local/lib/python3.6/dist-packages (from requests>=2.7.0->sumy) (2.10)\n",
            "Requirement already satisfied: urllib3!=1.25.0,!=1.25.1,<1.26,>=1.21.1 in /usr/local/lib/python3.6/dist-packages (from requests>=2.7.0->sumy) (1.24.3)\n",
            "Requirement already satisfied: certifi>=2017.4.17 in /usr/local/lib/python3.6/dist-packages (from requests>=2.7.0->sumy) (2020.12.5)\n",
            "[nltk_data] Downloading package punkt to /root/nltk_data...\n",
            "[nltk_data]   Unzipping tokenizers/punkt.zip.\n"
          ],
          "name": "stdout"
        }
      ]
    },
    {
      "cell_type": "code",
      "metadata": {
        "id": "JKQgradwdY08"
      },
      "source": [
        "class TextSummary(object):\n",
        "\n",
        "    def __init__(self, feeds_str, num_sents):\n",
        "        self.summary = str()\n",
        "        \n",
        "        parser = PlaintextParser.from_string(feeds_str, Tokenizer(\"english\"))\n",
        "        summarizer = LexRankSummarizer()\n",
        "\n",
        "        sentences = summarizer(parser.document, num_sents)  # Summarize the document with 5 sentences\n",
        "        for sentence in sentences:\n",
        "            self.summary += (sentence.__unicode__())\n",
        "\n",
        "    def output(self):\n",
        "        return self.summary"
      ],
      "execution_count": null,
      "outputs": []
    },
    {
      "cell_type": "code",
      "metadata": {
        "id": "YP8CExiud1qQ"
      },
      "source": [
        "input_text = '''Apple removed the headphone jack from the iPhone nearly four years ago in September 2016, and this year it may take those efforts one step further by nixing its wired EarPods from the iPhone 12 packaging, according to the latest predictions from TF International Securities analyst Ming-Chi Kuo. \n",
        "\n",
        "          Kuo, who has been accurate about some Apple product predictions in the past, said that Apple may offer promotions or discounts on the AirPods around the holiday season, according to 9to5Mac. \n",
        "\n",
        "          The report does not specify whether these expected discounts would pertain to the second-generation regular AirPods, which sell for $159 or $199 with the wireless charging case, or the $249 AirPods Pro. \n",
        "          \n",
        "          Apple also sells its wired EarPods through its website for $29.\n",
        "    \n",
        "          Apple's removal of the headphone jack with the iPhone 7 was met with controversy, with some tech critics disapproving of the decision and calling it \"user-hostile\" at the time.\n",
        "    \n",
        "          Kuo reported in a previous note from December that Apple may be planning to release its first totally wireless iPhone in 2021.\n",
        "\n",
        "          That phone would likely be the most expensive one in Apple's 2021 lineup, and Kuo didn't offer any additional details other than that it would offer a completely wireless experience.\n",
        "    \n",
        "          Phil Schiller, Apple's senior vice president of worldwide marketing, talked about the company's move toward wireless when unveiling the original AirPods in 2016.\n",
        "    \n",
        "          It makes no sense to tether ourselves with cables to our mobile devices, he said during the company's keynote.\n",
        "    \n",
        "          AirPods have become an increasingly important part of Apple's product lineup since their 2016 debut.\n",
        "    \n",
        "          The success of both the Apple Watch and AirPods has made Apple the top maker of wearable devices in the world during the fourth quarter of 2019, according to The International Data Corporation.'''\n"
      ],
      "execution_count": null,
      "outputs": []
    },
    {
      "cell_type": "code",
      "metadata": {
        "colab": {
          "base_uri": "https://localhost:8080/"
        },
        "id": "y5OmIrOBd3hA",
        "outputId": "16c58fb9-0756-4f12-b204-bcbc2a88724c"
      },
      "source": [
        "text_to_sum = TextSummary(input_text,5)\n",
        "print(text_to_sum.output())"
      ],
      "execution_count": null,
      "outputs": [
        {
          "output_type": "stream",
          "text": [
            "Apple removed the headphone jack from the iPhone nearly four years ago in September 2016, and this year it may take those efforts one step further by nixing its wired EarPods from the iPhone 12 packaging, according to the latest predictions from TF International Securities analyst Ming-Chi Kuo.Kuo, who has been accurate about some Apple product predictions in the past, said that Apple may offer promotions or discounts on the AirPods around the holiday season, according to 9to5Mac.Apple's removal of the headphone jack with the iPhone 7 was met with controversy, with some tech critics disapproving of the decision and calling it \"user-hostile\" at the time.That phone would likely be the most expensive one in Apple's 2021 lineup, and Kuo didn't offer any additional details other than that it would offer a completely wireless experience.Phil Schiller, Apple's senior vice president of worldwide marketing, talked about the company's move toward wireless when unveiling the original AirPods in 2016.\n"
          ],
          "name": "stdout"
        }
      ]
    }
  ]
}
