{
  "nbformat": 4,
  "nbformat_minor": 0,
  "metadata": {
    "colab": {
      "name": "5430_Assignment4_chb2132.ipynb",
      "provenance": [],
      "collapsed_sections": []
    },
    "kernelspec": {
      "name": "python3",
      "display_name": "Python 3"
    }
  },
  "cells": [
    {
      "cell_type": "markdown",
      "metadata": {
        "id": "3EdKlIsdSx2E"
      },
      "source": [
        "#`5430 NLP | SPRING 2021 | ASSIGNMENT | WEEK 4 | CHB2132 `#\n",
        "---"
      ]
    },
    {
      "cell_type": "markdown",
      "metadata": {
        "id": "h_qUqQpUoxgo"
      },
      "source": [
        ">**1. Pick a random news article from your Webhose dataset:**\n",
        ">* Preferably with many entity mentions"
      ]
    },
    {
      "cell_type": "code",
      "metadata": {
        "id": "BMKAhUP_G8kI"
      },
      "source": [
        "#Installation: !pip install bs4\n",
        "#Import: from bs4 import BeautifulSoup"
      ],
      "execution_count": null,
      "outputs": []
    },
    {
      "cell_type": "code",
      "metadata": {
        "id": "P-N--nZamz5U"
      },
      "source": [
        "TEXT0 = \"\"\"Apple removed the headphone jack from the iPhone nearly four years ago in September 2016, and this year it may take those efforts one step further by nixing its wired EarPods from the iPhone 12's packaging, according to the latest predictions from TF International Securities analyst Ming-Chi Kuo. Kuo, who has been accurate about some Apple product predictions in the past, said that Apple may offer promotions or discounts on the AirPods around the holiday season, according to 9to5Mac. The report does not specify whether these expected discounts would pertain to the second-generation regular AirPods, which sell for $159 or $199 with the wireless charging case, or the $249 AirPods Pro. Apple also sells its wired EarPods through its website for $29. Apple did not immediately respond to Business Insider's request for comment. Regardless, such a move will likely result in some backlash from critics and consumers.\"\"\""
      ],
      "execution_count": null,
      "outputs": []
    },
    {
      "cell_type": "code",
      "metadata": {
        "id": "bTXsGLd4ouHM"
      },
      "source": [
        "#retrieving text locations of PERSON entities\n",
        "T0_ENT0 = TEXT0.find('Ming-Chi Kuo')\n",
        "\n",
        "#retrieving text locations of ORGANIZATION entities\n",
        "T0_ENT1 = TEXT0.find('Apple')\n",
        "T0_ENT2 = TEXT0.find('TF International Securities')\n",
        "\n",
        "# print(T0_ENT0, T0_ENT1, T0_ENT2)"
      ],
      "execution_count": null,
      "outputs": []
    },
    {
      "cell_type": "code",
      "metadata": {
        "id": "C9nAQFj2rcQg"
      },
      "source": [
        "TEXT1 = \"\"\"Apple's removal of the headphone jack with the iPhone 7 was met with controversy, with some tech critics disapproving of the decision and calling it \"user-hostile\" at the time. Kuo reported in a previous note from December that Apple may be planning to release its first totally wireless iPhone in 2021. That phone would likely be the most expensive one in Apple's 2021 lineup, and Kuo didn't offer any additional details other than that it would offer a completely wireless experience. Phil Schiller, Apple's senior vice president of worldwide marketing, talked about the company's move toward wireless when unveiling the original AirPods in 2016. It makes no sense to tether ourselves with cables to our mobile devices, he said during the company's keynote. AirPods have become an increasingly important part of Apple's product lineup since their 2016 debut. The success of both the Apple Watch and AirPods has made Apple the top maker of wearable devices in the world during the fourth quarter of 2019, according to The International Data Corporation.\"\"\""
      ],
      "execution_count": null,
      "outputs": []
    },
    {
      "cell_type": "code",
      "metadata": {
        "id": "gMIIGDVVsTe4"
      },
      "source": [
        "#retrieving text locations of PERSON entities\n",
        "T1_ENT0 = TEXT1.find('Kuo')\n",
        "T1_ENT1 = TEXT1.find('Phil Schiller')\n",
        "\n",
        "#retrieving text locations of ORGANIZATION entities\n",
        "T1_ENT2 = TEXT1.find('Apple')\n",
        "T1_ENT3 = TEXT1.find('The International Data Corporation')\n",
        "\n",
        "# print(T1_ENT0, T1_ENT1, T1_ENT2, T1_ENT3)"
      ],
      "execution_count": null,
      "outputs": []
    },
    {
      "cell_type": "code",
      "metadata": {
        "id": "CXXtpPjPloPI"
      },
      "source": [
        "TEXT = [\n",
        "  (\"\"\"Apple removed the headphone jack from the iPhone nearly four years ago in September 2016, and this year it may take those efforts one step further by nixing its wired EarPods from the iPhone 12's packaging, according to the latest predictions from TF International Securities analyst Ming-Chi Kuo. Kuo, who has been accurate about some Apple product predictions in the past, said that Apple may offer promotions or discounts on the AirPods around the holiday season, according to 9to5Mac. The report does not specify whether these expected discounts would pertain to the second-generation regular AirPods, which sell for $159 or $199 with the wireless charging case, or the $249 AirPods Pro. Apple also sells its wired EarPods through its website for $29. Apple did not immediately respond to Business Insider's request for comment. Regardless, such a move will likely result in some backlash from critics and consumers.\"\"\", \n",
        "  {\"entities\": [(284, 296, \"PERSON\"), (0, 5, \"ORG\"), (248, 275, \"ORG\")]}),\n",
        "\n",
        "  (\"\"\"Apple's removal of the headphone jack with the iPhone 7 was met with controversy, with some tech critics disapproving of the decision and calling it \"user-hostile\" at the time. Kuo reported in a previous note from December that Apple may be planning to release its first totally wireless iPhone in 2021. That phone would likely be the most expensive one in Apple's 2021 lineup, and Kuo didn't offer any additional details other than that it would offer a completely wireless experience. Phil Schiller, Apple's senior vice president of worldwide marketing, talked about the company's move toward wireless when unveiling the original AirPods in 2016. It makes no sense to tether ourselves with cables to our mobile devices, he said during the company's keynote. AirPods have become an increasingly important part of Apple's product lineup since their 2016 debut. The success of both the Apple Watch and AirPods has made Apple the top maker of wearable devices in the world during the fourth quarter of 2019, according to The International Data Corporation.\"\"\",\n",
        "  {\"entities\": [(177, 180, \"PERSON\"), (487, 500, \"PERSON\"), (0, 5, \"ORG\"), (1019, 1053, \"ORG\")]}),\n",
        "]"
      ],
      "execution_count": null,
      "outputs": []
    },
    {
      "cell_type": "markdown",
      "metadata": {
        "id": "E-KSX6ECoRHM"
      },
      "source": [
        ">**2. Set up an Information Extraction service: SpaCy**\n",
        "\n",
        ">* Visit SpaCy EntityRecognizer for Python NER calls\n",
        "\n",
        ">* Write a Python program implementing API calls to:\n",
        ">  * Extract Company/Organization\n",
        ">  * Geo entities from the article"
      ]
    },
    {
      "cell_type": "code",
      "metadata": {
        "id": "ELrawwxzqSjk"
      },
      "source": [
        "import pandas as pd\n",
        "import numpy as np\n",
        "\n",
        "import spacy\n",
        "import random\n",
        "\n",
        "from spacy.util import minibatch, compounding\n",
        "from pathlib import Path"
      ],
      "execution_count": null,
      "outputs": []
    },
    {
      "cell_type": "code",
      "metadata": {
        "id": "9Kspp3lbiMAE"
      },
      "source": [
        "nlp = spacy.load('en_core_web_sm')\n",
        "\n",
        "SUBJECTS = [\"nsubj\", \"nsubjpass\", \"csubj\", \"csubjpass\", \"agent\", \"expl\"]\n",
        "OBJECTS = [\"dobj\", \"dative\", \"attr\", \"oprd\"]"
      ],
      "execution_count": null,
      "outputs": []
    },
    {
      "cell_type": "code",
      "metadata": {
        "id": "D-BgiSEvcdfk"
      },
      "source": [
        "def call_spacy(data):\n",
        "  \n",
        "  ARTICLE_TEXT = data\n",
        "\n",
        "  # create the built-in pipeline components and add them to the pipeline\n",
        "  # nlp.create_pipe works for built-ins that are registered with spaCy\n",
        "  if \"ner\" not in nlp.pipe_names:\n",
        "      ner = nlp.create_pipe(\"ner\")\n",
        "      nlp.add_pipe(ner, last = True)\n",
        "\n",
        "  # otherwise, get it so we can add labels\n",
        "  else:\n",
        "      ner = nlp.get_pipe(\"ner\")\n",
        "\n",
        "  # add labels\n",
        "  for _, annotations in ARTICLE_TEXT:\n",
        "      for ent in annotations.get(\"entities\"):\n",
        "          ner.add_label(ent[2])\n",
        "\n",
        "  return nlp"
      ],
      "execution_count": null,
      "outputs": []
    },
    {
      "cell_type": "code",
      "metadata": {
        "colab": {
          "base_uri": "https://localhost:8080/"
        },
        "id": "U86qX3uta-44",
        "outputId": "5e0b4484-d448-4376-adb9-da27aca0d376"
      },
      "source": [
        "# test the function\n",
        "for text, _ in TEXT:\n",
        "  doc = nlp(text)\n",
        "  print(\"Entities\", [(ent.text, ent.label_) for ent in doc.ents])\n",
        "  print(\"Tokens\", [(t.text, t.ent_type_, t.ent_iob) for t in doc])\n",
        "  print(\"\\n\")"
      ],
      "execution_count": null,
      "outputs": [
        {
          "output_type": "stream",
          "text": [
            "Entities [('Apple', 'ORG'), ('iPhone', 'ORG'), ('nearly four years ago', 'DATE'), ('September 2016', 'DATE'), ('this year', 'DATE'), ('one', 'CARDINAL'), ('EarPods', 'ORG'), ('iPhone', 'ORG'), ('TF International Securities', 'ORG'), ('Ming-Chi Kuo', 'PERSON'), ('Kuo', 'PERSON'), ('Apple', 'ORG'), ('Apple', 'ORG'), ('AirPods', 'ORG'), ('the holiday season', 'DATE'), ('9to5Mac', 'CARDINAL'), ('second', 'ORDINAL'), ('AirPods', 'PRODUCT'), ('$159 or $199', 'MONEY'), ('249', 'MONEY'), ('AirPods Pro', 'ORG'), ('Apple', 'ORG'), ('EarPods', 'ORG'), ('29', 'MONEY'), ('Apple', 'ORG'), (\"Business Insider's\", 'ORG')]\n",
            "Tokens [('Apple', 'ORG', 3), ('removed', '', 2), ('the', '', 2), ('headphone', '', 2), ('jack', '', 2), ('from', '', 2), ('the', '', 2), ('iPhone', 'ORG', 3), ('nearly', 'DATE', 3), ('four', 'DATE', 1), ('years', 'DATE', 1), ('ago', 'DATE', 1), ('in', '', 2), ('September', 'DATE', 3), ('2016', 'DATE', 1), (',', '', 2), ('and', '', 2), ('this', 'DATE', 3), ('year', 'DATE', 1), ('it', '', 2), ('may', '', 2), ('take', '', 2), ('those', '', 2), ('efforts', '', 2), ('one', 'CARDINAL', 3), ('step', '', 2), ('further', '', 2), ('by', '', 2), ('nixing', '', 2), ('its', '', 2), ('wired', '', 2), ('EarPods', 'ORG', 3), ('from', '', 2), ('the', '', 2), ('iPhone', 'ORG', 3), ('12', '', 2), (\"'s\", '', 2), ('packaging', '', 2), (',', '', 2), ('according', '', 2), ('to', '', 2), ('the', '', 2), ('latest', '', 2), ('predictions', '', 2), ('from', '', 2), ('TF', 'ORG', 3), ('International', 'ORG', 1), ('Securities', 'ORG', 1), ('analyst', '', 2), ('Ming', 'PERSON', 3), ('-', 'PERSON', 1), ('Chi', 'PERSON', 1), ('Kuo', 'PERSON', 1), ('.', '', 2), ('Kuo', 'PERSON', 3), (',', '', 2), ('who', '', 2), ('has', '', 2), ('been', '', 2), ('accurate', '', 2), ('about', '', 2), ('some', '', 2), ('Apple', 'ORG', 3), ('product', '', 2), ('predictions', '', 2), ('in', '', 2), ('the', '', 2), ('past', '', 2), (',', '', 2), ('said', '', 2), ('that', '', 2), ('Apple', 'ORG', 3), ('may', '', 2), ('offer', '', 2), ('promotions', '', 2), ('or', '', 2), ('discounts', '', 2), ('on', '', 2), ('the', '', 2), ('AirPods', 'ORG', 3), ('around', '', 2), ('the', 'DATE', 3), ('holiday', 'DATE', 1), ('season', 'DATE', 1), (',', '', 2), ('according', '', 2), ('to', '', 2), ('9to5Mac', 'CARDINAL', 3), ('.', '', 2), ('The', '', 2), ('report', '', 2), ('does', '', 2), ('not', '', 2), ('specify', '', 2), ('whether', '', 2), ('these', '', 2), ('expected', '', 2), ('discounts', '', 2), ('would', '', 2), ('pertain', '', 2), ('to', '', 2), ('the', '', 2), ('second', 'ORDINAL', 3), ('-', '', 2), ('generation', '', 2), ('regular', '', 2), ('AirPods', 'PRODUCT', 3), (',', '', 2), ('which', '', 2), ('sell', '', 2), ('for', '', 2), ('$', 'MONEY', 3), ('159', 'MONEY', 1), ('or', 'MONEY', 1), ('$', 'MONEY', 1), ('199', 'MONEY', 1), ('with', '', 2), ('the', '', 2), ('wireless', '', 2), ('charging', '', 2), ('case', '', 2), (',', '', 2), ('or', '', 2), ('the', '', 2), ('$', '', 2), ('249', 'MONEY', 3), ('AirPods', 'ORG', 3), ('Pro', 'ORG', 1), ('.', '', 2), ('Apple', 'ORG', 3), ('also', '', 2), ('sells', '', 2), ('its', '', 2), ('wired', '', 2), ('EarPods', 'ORG', 3), ('through', '', 2), ('its', '', 2), ('website', '', 2), ('for', '', 2), ('$', '', 2), ('29', 'MONEY', 3), ('.', '', 2), ('Apple', 'ORG', 3), ('did', '', 2), ('not', '', 2), ('immediately', '', 2), ('respond', '', 2), ('to', '', 2), ('Business', 'ORG', 3), ('Insider', 'ORG', 1), (\"'s\", 'ORG', 1), ('request', '', 2), ('for', '', 2), ('comment', '', 2), ('.', '', 2), ('Regardless', '', 2), (',', '', 2), ('such', '', 2), ('a', '', 2), ('move', '', 2), ('will', '', 2), ('likely', '', 2), ('result', '', 2), ('in', '', 2), ('some', '', 2), ('backlash', '', 2), ('from', '', 2), ('critics', '', 2), ('and', '', 2), ('consumers', '', 2), ('.', '', 2)]\n",
            "\n",
            "\n",
            "Entities [('Apple', 'ORG'), ('the iPhone 7', 'LAW'), ('Kuo', 'PERSON'), ('December', 'DATE'), ('Apple', 'ORG'), ('first', 'ORDINAL'), ('iPhone', 'ORG'), ('2021', 'DATE'), ('Apple', 'ORG'), ('2021', 'DATE'), ('Kuo', 'PERSON'), ('Phil Schiller', 'PERSON'), ('Apple', 'ORG'), ('AirPods', 'ORG'), ('2016', 'DATE'), ('Apple', 'ORG'), ('2016', 'DATE'), ('the Apple Watch and AirPods', 'ORG'), ('Apple', 'ORG'), ('the fourth quarter of 2019', 'DATE'), ('The International Data Corporation', 'ORG')]\n",
            "Tokens [('Apple', 'ORG', 3), (\"'s\", '', 2), ('removal', '', 2), ('of', '', 2), ('the', '', 2), ('headphone', '', 2), ('jack', '', 2), ('with', '', 2), ('the', 'LAW', 3), ('iPhone', 'LAW', 1), ('7', 'LAW', 1), ('was', '', 2), ('met', '', 2), ('with', '', 2), ('controversy', '', 2), (',', '', 2), ('with', '', 2), ('some', '', 2), ('tech', '', 2), ('critics', '', 2), ('disapproving', '', 2), ('of', '', 2), ('the', '', 2), ('decision', '', 2), ('and', '', 2), ('calling', '', 2), ('it', '', 2), ('\"', '', 2), ('user', '', 2), ('-', '', 2), ('hostile', '', 2), ('\"', '', 2), ('at', '', 2), ('the', '', 2), ('time', '', 2), ('.', '', 2), ('Kuo', 'PERSON', 3), ('reported', '', 2), ('in', '', 2), ('a', '', 2), ('previous', '', 2), ('note', '', 2), ('from', '', 2), ('December', 'DATE', 3), ('that', '', 2), ('Apple', 'ORG', 3), ('may', '', 2), ('be', '', 2), ('planning', '', 2), ('to', '', 2), ('release', '', 2), ('its', '', 2), ('first', 'ORDINAL', 3), ('totally', '', 2), ('wireless', '', 2), ('iPhone', 'ORG', 3), ('in', '', 2), ('2021', 'DATE', 3), ('.', '', 2), ('That', '', 2), ('phone', '', 2), ('would', '', 2), ('likely', '', 2), ('be', '', 2), ('the', '', 2), ('most', '', 2), ('expensive', '', 2), ('one', '', 2), ('in', '', 2), ('Apple', 'ORG', 3), (\"'s\", '', 2), ('2021', 'DATE', 3), ('lineup', '', 2), (',', '', 2), ('and', '', 2), ('Kuo', 'PERSON', 3), ('did', '', 2), (\"n't\", '', 2), ('offer', '', 2), ('any', '', 2), ('additional', '', 2), ('details', '', 2), ('other', '', 2), ('than', '', 2), ('that', '', 2), ('it', '', 2), ('would', '', 2), ('offer', '', 2), ('a', '', 2), ('completely', '', 2), ('wireless', '', 2), ('experience', '', 2), ('.', '', 2), ('Phil', 'PERSON', 3), ('Schiller', 'PERSON', 1), (',', '', 2), ('Apple', 'ORG', 3), (\"'s\", '', 2), ('senior', '', 2), ('vice', '', 2), ('president', '', 2), ('of', '', 2), ('worldwide', '', 2), ('marketing', '', 2), (',', '', 2), ('talked', '', 2), ('about', '', 2), ('the', '', 2), ('company', '', 2), (\"'s\", '', 2), ('move', '', 2), ('toward', '', 2), ('wireless', '', 2), ('when', '', 2), ('unveiling', '', 2), ('the', '', 2), ('original', '', 2), ('AirPods', 'ORG', 3), ('in', '', 2), ('2016', 'DATE', 3), ('.', '', 2), ('It', '', 2), ('makes', '', 2), ('no', '', 2), ('sense', '', 2), ('to', '', 2), ('tether', '', 2), ('ourselves', '', 2), ('with', '', 2), ('cables', '', 2), ('to', '', 2), ('our', '', 2), ('mobile', '', 2), ('devices', '', 2), (',', '', 2), ('he', '', 2), ('said', '', 2), ('during', '', 2), ('the', '', 2), ('company', '', 2), (\"'s\", '', 2), ('keynote', '', 2), ('.', '', 2), ('AirPods', '', 2), ('have', '', 2), ('become', '', 2), ('an', '', 2), ('increasingly', '', 2), ('important', '', 2), ('part', '', 2), ('of', '', 2), ('Apple', 'ORG', 3), (\"'s\", '', 2), ('product', '', 2), ('lineup', '', 2), ('since', '', 2), ('their', '', 2), ('2016', 'DATE', 3), ('debut', '', 2), ('.', '', 2), ('The', '', 2), ('success', '', 2), ('of', '', 2), ('both', '', 2), ('the', 'ORG', 3), ('Apple', 'ORG', 1), ('Watch', 'ORG', 1), ('and', 'ORG', 1), ('AirPods', 'ORG', 1), ('has', '', 2), ('made', '', 2), ('Apple', 'ORG', 3), ('the', '', 2), ('top', '', 2), ('maker', '', 2), ('of', '', 2), ('wearable', '', 2), ('devices', '', 2), ('in', '', 2), ('the', '', 2), ('world', '', 2), ('during', '', 2), ('the', 'DATE', 3), ('fourth', 'DATE', 1), ('quarter', 'DATE', 1), ('of', 'DATE', 1), ('2019', 'DATE', 1), (',', '', 2), ('according', '', 2), ('to', '', 2), ('The', 'ORG', 3), ('International', 'ORG', 1), ('Data', 'ORG', 1), ('Corporation', 'ORG', 1), ('.', '', 2)]\n",
            "\n",
            "\n"
          ],
          "name": "stdout"
        }
      ]
    },
    {
      "cell_type": "code",
      "metadata": {
        "colab": {
          "base_uri": "https://localhost:8080/"
        },
        "id": "wzoPfupxxoOs",
        "outputId": "5dad95bc-b967-405b-9a9f-3cfd6091876c"
      },
      "source": [
        "newsCy = call_spacy(TEXT)\n",
        "\n",
        "#Test your text\n",
        "input_text = input(\"Enter your testing text: \")\n",
        "\n",
        "doc = newsCy(input_text)\n",
        "\n",
        "for ent in doc.ents:\n",
        "    print(ent.text, ent.start_char, ent.end_char, ent.label_)"
      ],
      "execution_count": null,
      "outputs": [
        {
          "output_type": "stream",
          "text": [
            "Enter your testing text: Apple's removal of the headphone jack with the iPhone 7 was met with controversy, with some tech critics disapproving of the decision and calling it \"user-hostile\" at the time.\n",
            "Apple 0 5 ORG\n",
            "the iPhone 7 43 55 LAW\n"
          ],
          "name": "stdout"
        }
      ]
    },
    {
      "cell_type": "markdown",
      "metadata": {
        "id": "niSZjaZ0eoqE"
      },
      "source": [
        "> **3. Use the SpaCy NER notebook to:**\n",
        "\n",
        "> * update TRAIN_DATA with annotations of entities:\n",
        ">  * (PERSON, LOCATION, or ORGANIZATION) \n",
        ">  * from each sentence in the article\n",
        "\n",
        "> * run spaCy_NER function to generate trained_nlp model\n",
        "\n",
        "> * test entity recognition with trained_nlp:\n",
        "    * use on a second article\n",
        "    * print results to output"
      ]
    },
    {
      "cell_type": "code",
      "metadata": {
        "id": "KsRnHTKT0eps"
      },
      "source": [
        "TRAIN_DATA = [\n",
        "              ('''Apple's removal of the headphone jack with the iPhone 7 was met with controversy, with some tech critics disapproving of the decision and calling it \"user-hostile\" at the time.''',\n",
        "              {'entities': [(0, 5, 'ORG')]}),\n",
        "              ('''Kuo reported in a previous note from December that Apple may be planning to release its first totally wireless iPhone in 2021.''',\n",
        "              {'entities': [(0, 3, 'PERSON'), (51, 56, 'ORG')]}),\n",
        "              ('''That phone would likely be the most expensive one in Apple's 2021 lineup, and Kuo didn't offer any additional details other than that it would offer a completely wireless experience.''',\n",
        "              {'entities': [(53, 58, 'ORG'), (78, 81, 'PERSON')]}),\n",
        "              ('''Phil Schiller, Apple's senior vice president of worldwide marketing, talked about the company's move toward wireless when unveiling the original AirPods in 2016.''',\n",
        "              {'entities': [(0, 15, 'PERSON'), (15, 20, 'ORG')]}),\n",
        "              ('''AirPods have become an increasingly important part of Apple's product lineup since their 2016 debut.''',\n",
        "              {'entities': [(54, 59, 'ORG')]}),\n",
        "              ('''The success of both the Apple Watch and AirPods has made Apple the top maker of wearable devices in the world during the fourth quarter of 2019, according to The International Data Corporation.''',\n",
        "              {'entities': [(24, 29, 'ORG'), (158, 192, 'ORG')]})]"
      ],
      "execution_count": null,
      "outputs": []
    },
    {
      "cell_type": "markdown",
      "metadata": {
        "id": "9kkNFgYzz_VA"
      },
      "source": [
        "### Train NER"
      ]
    },
    {
      "cell_type": "code",
      "metadata": {
        "colab": {
          "base_uri": "https://localhost:8080/",
          "height": 506
        },
        "id": "u2lceheSz5fk",
        "outputId": "8b25aa77-32f7-4063-b6bf-f8ef10b1e040"
      },
      "source": [
        "import matplotlib.pyplot as plt\n",
        "\n",
        "def plot_loss_history(loss_history):\n",
        "    f, ax = plt.subplots(1, 1, figsize=(12, 8)) # set the size of figures for plots\n",
        "    plt.plot(loss_history)\n",
        "    plt.xlabel('Iteration').set_fontsize(20)\n",
        "    plt.ylabel('Loss value').set_fontsize(20)\n",
        "    plt.show()\n",
        "    return\n",
        "\n",
        "n_iter=100\n",
        "loss_history = []\n",
        "# get names of other pipes to disable them during training\n",
        "other_pipes = [pipe for pipe in nlp.pipe_names if pipe != \"ner\"]\n",
        "with nlp.disable_pipes(*other_pipes):  # only train NER\n",
        "    # reset and initialize the weights randomly – but only if we're\n",
        "    # training a new model\n",
        "    #if model is None:\n",
        "    nlp.begin_training()\n",
        "    for itn in range(n_iter):\n",
        "        random.shuffle(TRAIN_DATA)\n",
        "        losses = {}\n",
        "        # batch up the examples using spaCy's minibatch\n",
        "        batches = minibatch(TRAIN_DATA, size=compounding(4.0, 32.0, 1.001))\n",
        "        for batch in batches:\n",
        "            texts, annotations = zip(*batch)\n",
        "            nlp.update(\n",
        "                texts,  # batch of texts\n",
        "                annotations,  # batch of annotations\n",
        "                drop=0.5,  # dropout - make it harder to memorise data\n",
        "                losses=losses,\n",
        "            )\n",
        "        loss_history.append(losses['ner'])\n",
        "\n",
        "# the loss should trend down\n",
        "plot_loss_history(loss_history)"
      ],
      "execution_count": null,
      "outputs": [
        {
          "output_type": "display_data",
          "data": {
            "image/png": "[encoded data removed]",
            "text/plain": [
              "<Figure size 864x576 with 1 Axes>"
            ]
          },
          "metadata": {
            "tags": [],
            "needs_background": "light"
          }
        }
      ]
    },
    {
      "cell_type": "markdown",
      "metadata": {
        "id": "NKDHhwVx0Dy8"
      },
      "source": [
        "### Test the trained model"
      ]
    },
    {
      "cell_type": "code",
      "metadata": {
        "id": "K8Dd-3l98mQo",
        "colab": {
          "base_uri": "https://localhost:8080/",
          "height": 628
        },
        "outputId": "7312b863-d7fd-4ca6-fdba-5471c2cbb93b"
      },
      "source": [
        "def train_spacy(data,iterations):\n",
        "    TRAIN_DATA = data\n",
        "    nlp = spacy.blank('en')  # create blank Language class\n",
        "    # create the built-in pipeline components and add them to the pipeline\n",
        "    # nlp.create_pipe works for built-ins that are registered with spaCy\n",
        "    if 'ner' not in nlp.pipe_names:\n",
        "        ner = nlp.create_pipe('ner')\n",
        "        nlp.add_pipe(ner, last=True)\n",
        "\n",
        "    # add labels\n",
        "    for _, annotations in TRAIN_DATA:\n",
        "         for ent in annotations.get('entities'):\n",
        "            ner.add_label(ent[2])\n",
        "\n",
        "    # get names of other pipes to disable them during training\n",
        "    other_pipes = [pipe for pipe in nlp.pipe_names if pipe != 'ner']\n",
        "    with nlp.disable_pipes(*other_pipes):  # only train NER\n",
        "        optimizer = nlp.begin_training()\n",
        "        loss_history = []\n",
        "        for itn in range(iterations):\n",
        "            if not itn % 5:\n",
        "                print(\"Starting iteration \" + str(itn))\n",
        "            random.shuffle(TRAIN_DATA)\n",
        "            losses = {}\n",
        "            for text, annotations in TRAIN_DATA:\n",
        "                nlp.update(\n",
        "                    [text],  # batch of texts\n",
        "                    [annotations],  # batch of annotations\n",
        "                    drop=0.2,  # dropout - make it harder to memorise data\n",
        "                    sgd=optimizer,  # callable to update weights\n",
        "                    losses=losses)\n",
        "            loss_history.append(losses['ner'])\n",
        "    plot_loss_history(loss_history)\n",
        "    return nlp\n",
        "\n",
        "prdnlp = train_spacy(TRAIN_DATA, 20)\n",
        "\n",
        "\n",
        "#Test your text\n",
        "test_text = input(\"Enter your testing text: \")\n",
        "doc = prdnlp(test_text)\n",
        "for ent in doc.ents:\n",
        "    print(ent.text, ent.start_char, ent.end_char, ent.label_)"
      ],
      "execution_count": null,
      "outputs": [
        {
          "output_type": "stream",
          "text": [
            "Starting iteration 0\n",
            "Starting iteration 5\n",
            "Starting iteration 10\n",
            "Starting iteration 15\n"
          ],
          "name": "stdout"
        },
        {
          "output_type": "display_data",
          "data": {
            "image/png": "[encoded data removed]",
            "text/plain": [
              "<Figure size 864x576 with 1 Axes>"
            ]
          },
          "metadata": {
            "tags": [],
            "needs_background": "light"
          }
        },
        {
          "output_type": "stream",
          "text": [
            "Enter your testing text: Kuo reported in a previous note from December that Apple may be planning to release its first totally wireless iPhone in 2021.\n",
            "Kuo 0 3 PERSON\n",
            "Apple 51 56 ORG\n"
          ],
          "name": "stdout"
        }
      ]
    },
    {
      "cell_type": "code",
      "metadata": {
        "colab": {
          "base_uri": "https://localhost:8080/"
        },
        "id": "nLOZm6mu3UHw",
        "outputId": "3d26271f-03f9-4a6a-c464-6ba0973fd96e"
      },
      "source": [
        "# test the trained model\n",
        "\n",
        "for text, _ in TRAIN_DATA:\n",
        "  doc = nlp(text)\n",
        "  print(\"Entities\", [(ent.text, ent.label_) for ent in doc.ents])\n",
        "  print(\"Tokens\", [(t.text, t.ent_type_, t.ent_iob) for t in doc])\n",
        "  print(\"\\n\")"
      ],
      "execution_count": null,
      "outputs": [
        {
          "output_type": "stream",
          "text": [
            "Entities [('Apple', 'ORG')]\n",
            "Tokens [('Apple', 'ORG', 3), (\"'s\", '', 2), ('removal', '', 2), ('of', '', 2), ('the', '', 2), ('headphone', '', 2), ('jack', '', 2), ('with', '', 2), ('the', '', 2), ('iPhone', '', 2), ('7', '', 2), ('was', '', 2), ('met', '', 2), ('with', '', 2), ('controversy', '', 2), (',', '', 2), ('with', '', 2), ('some', '', 2), ('tech', '', 2), ('critics', '', 2), ('disapproving', '', 2), ('of', '', 2), ('the', '', 2), ('decision', '', 2), ('and', '', 2), ('calling', '', 2), ('it', '', 2), ('\"', '', 2), ('user', '', 2), ('-', '', 2), ('hostile', '', 2), ('\"', '', 2), ('at', '', 2), ('the', '', 2), ('time', '', 2), ('.', '', 2)]\n",
            "\n",
            "\n",
            "Entities [('Apple', 'ORG'), ('Kuo', 'PERSON')]\n",
            "Tokens [('That', '', 2), ('phone', '', 2), ('would', '', 2), ('likely', '', 2), ('be', '', 2), ('the', '', 2), ('most', '', 2), ('expensive', '', 2), ('one', '', 2), ('in', '', 2), ('Apple', 'ORG', 3), (\"'s\", '', 2), ('2021', '', 2), ('lineup', '', 2), (',', '', 2), ('and', '', 2), ('Kuo', 'PERSON', 3), ('did', '', 2), (\"n't\", '', 2), ('offer', '', 2), ('any', '', 2), ('additional', '', 2), ('details', '', 2), ('other', '', 2), ('than', '', 2), ('that', '', 2), ('it', '', 2), ('would', '', 2), ('offer', '', 2), ('a', '', 2), ('completely', '', 2), ('wireless', '', 2), ('experience', '', 2), ('.', '', 2)]\n",
            "\n",
            "\n",
            "Entities [('Apple', 'ORG')]\n",
            "Tokens [('AirPods', '', 2), ('have', '', 2), ('become', '', 2), ('an', '', 2), ('increasingly', '', 2), ('important', '', 2), ('part', '', 2), ('of', '', 2), ('Apple', 'ORG', 3), (\"'s\", '', 2), ('product', '', 2), ('lineup', '', 2), ('since', '', 2), ('their', '', 2), ('2016', '', 2), ('debut', '', 2), ('.', '', 2)]\n",
            "\n",
            "\n",
            "Entities [('Apple', 'ORG'), ('The International Data Corporation', 'ORG')]\n",
            "Tokens [('The', '', 2), ('success', '', 2), ('of', '', 2), ('both', '', 2), ('the', '', 2), ('Apple', 'ORG', 3), ('Watch', '', 2), ('and', '', 2), ('AirPods', '', 2), ('has', '', 2), ('made', '', 2), ('Apple', '', 2), ('the', '', 2), ('top', '', 2), ('maker', '', 2), ('of', '', 2), ('wearable', '', 2), ('devices', '', 2), ('in', '', 2), ('the', '', 2), ('world', '', 2), ('during', '', 2), ('the', '', 2), ('fourth', '', 2), ('quarter', '', 2), ('of', '', 2), ('2019', '', 2), (',', '', 2), ('according', '', 2), ('to', '', 2), ('The', 'ORG', 3), ('International', 'ORG', 1), ('Data', 'ORG', 1), ('Corporation', 'ORG', 1), ('.', '', 2)]\n",
            "\n",
            "\n",
            "Entities [('Phil Schiller', 'ORG'), ('Apple', 'ORG')]\n",
            "Tokens [('Phil', 'ORG', 3), ('Schiller', 'ORG', 1), (',', '', 2), ('Apple', 'ORG', 3), (\"'s\", '', 2), ('senior', '', 2), ('vice', '', 2), ('president', '', 2), ('of', '', 2), ('worldwide', '', 2), ('marketing', '', 2), (',', '', 2), ('talked', '', 2), ('about', '', 2), ('the', '', 2), ('company', '', 2), (\"'s\", '', 2), ('move', '', 2), ('toward', '', 2), ('wireless', '', 2), ('when', '', 2), ('unveiling', '', 2), ('the', '', 2), ('original', '', 2), ('AirPods', '', 2), ('in', '', 2), ('2016', '', 2), ('.', '', 2)]\n",
            "\n",
            "\n",
            "Entities [('Kuo', 'PERSON'), ('Apple', 'ORG')]\n",
            "Tokens [('Kuo', 'PERSON', 3), ('reported', '', 2), ('in', '', 2), ('a', '', 2), ('previous', '', 2), ('note', '', 2), ('from', '', 2), ('December', '', 2), ('that', '', 2), ('Apple', 'ORG', 3), ('may', '', 2), ('be', '', 2), ('planning', '', 2), ('to', '', 2), ('release', '', 2), ('its', '', 2), ('first', '', 2), ('totally', '', 2), ('wireless', '', 2), ('iPhone', '', 2), ('in', '', 2), ('2021', '', 2), ('.', '', 2)]\n",
            "\n",
            "\n"
          ],
          "name": "stdout"
        }
      ]
    }
  ]
}
